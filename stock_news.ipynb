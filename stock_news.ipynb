{
 "cells": [
  {
   "cell_type": "code",
   "execution_count": 43,
   "metadata": {},
   "outputs": [],
   "source": [
    "# importing important libraries\n",
    "import gspread\n",
    "from bs4 import BeautifulSoup\n",
    "import requests\n",
    "import pandas as pd"
   ]
  },
  {
   "cell_type": "code",
   "execution_count": 8,
   "metadata": {},
   "outputs": [],
   "source": [
    "# connecting Googlesheets \n",
    "sa = gspread.service_account(\"creds.json\")\n",
    "sh = sa.open(\"MyfinancePro\")\n",
    "wks = sh.worksheet(\"Investment\")\n"
   ]
  },
  {
   "cell_type": "code",
   "execution_count": 33,
   "metadata": {},
   "outputs": [],
   "source": [
    "a = wks.acell('C6').value\n",
    "b = wks.acell('C8').value\n"
   ]
  },
  {
   "cell_type": "code",
   "execution_count": 66,
   "metadata": {},
   "outputs": [],
   "source": [
    "# scrapping news from Google news\n",
    "def extract(page):\n",
    "    url = f'https://www.google.com/search?q={page}+news&sxsrf=AOaemvLPjuEkV2ffpO0bDdWHSAh5pC6ZBA:1642788402038&source=lnms&tbm=nws&sa=X&ved=2ahUKEwjGvZPZt8P1AhVZ83MBHZE4A74Q_AUoAXoECAEQAw&biw=1536&bih=792&dpr=1.25'\n",
    "    header = {'User-Agent':'Mozilla/5.0 (X11; CrOS x86_64 8172.45.0) AppleWebKit/537.36 (KHTML, like Gecko) Chrome/51.0.2704.64 Safari/537.36'} # Temporary user agent\n",
    "    r = requests.get(url, headers=header)\n",
    "    soup = BeautifulSoup(r.content, 'html.parser')\n",
    "    return soup\n",
    "\n",
    "def transform(soup):\n",
    "    gcard = soup.find_all('g-card', class_=\"ftSUBd\")\n",
    "    for item in gcard:\n",
    "        news_url = item.find(\"div\", class_=\"CEMjEf NUnG9d\").text\n",
    "        #print(news_url)\n",
    "        url1 = item.find('a').get('href')\n",
    "        # print(url)\n",
    "        title = item.find(\"div\", class_=\"mCBkyc y355M JQe2Ld nDgy9d\").text.strip()\n",
    "        # print(title)\n",
    "        news_list = {\n",
    "            'Source': news_url,\n",
    "            'News': title,\n",
    "            'Article_url': url1\n",
    "        }\n",
    "        news.append(news_list)\n"
   ]
  },
  {
   "cell_type": "code",
   "execution_count": 70,
   "metadata": {},
   "outputs": [],
   "source": [
    "def stocknews(company, newscell, linkcell):\n",
    "    c = extract(company)\n",
    "    transform(c)\n",
    "    df  = pd.DataFrame(news)\n",
    "    newss = df.News[0]\n",
    "    source = df.Source[0]\n",
    "    link = df.Article_url[0]\n",
    "    wks.update(newscell, f\"{newss} - {source}\")\n",
    "    wks.update(linkcell, link)\n",
    "\n",
    "news = []\n",
    "stocknews(a,\"G1\", \"H1\")\n",
    "stocknews(b, \"G2\", \"H2\")\n"
   ]
  }
 ],
 "metadata": {
  "interpreter": {
   "hash": "b3ba2566441a7c06988d0923437866b63cedc61552a5af99d1f4fb67d367b25f"
  },
  "kernelspec": {
   "display_name": "Python 3.8.8 64-bit ('base': conda)",
   "language": "python",
   "name": "python3"
  },
  "language_info": {
   "codemirror_mode": {
    "name": "ipython",
    "version": 3
   },
   "file_extension": ".py",
   "mimetype": "text/x-python",
   "name": "python",
   "nbconvert_exporter": "python",
   "pygments_lexer": "ipython3",
   "version": "3.8.8"
  },
  "orig_nbformat": 4
 },
 "nbformat": 4,
 "nbformat_minor": 2
}
